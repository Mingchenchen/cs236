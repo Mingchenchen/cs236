{
 "cells": [
  {
   "cell_type": "code",
   "execution_count": 46,
   "metadata": {},
   "outputs": [],
   "source": [
    "import torch\n",
    "from torchvision.utils import make_grid\n",
    "from matplotlib.pyplot import imshow\n",
    "\n",
    "import codebase.utils as ut\n",
    "from codebase.models.vae import VAE\n",
    "from codebase.train import train\n"
   ]
  },
  {
   "cell_type": "code",
   "execution_count": 12,
   "metadata": {},
   "outputs": [
    {
     "name": "stdout",
     "output_type": "stream",
     "text": [
      "Model name: model=vae_z=10_run=0000\n"
     ]
    }
   ],
   "source": [
    "iter_max=20000\n",
    "z = 10\n",
    "run = 0\n",
    "layout = [\n",
    "    ('model={:s}',  'vae'),\n",
    "    ('z={:02d}',  z),\n",
    "    ('run={:04d}', run)\n",
    "]\n",
    "model_name = '_'.join([t.format(v) for (t, v) in layout])\n",
    "#pprint(vars(args))\n",
    "print('Model name:', model_name)\n",
    "\n",
    "device = torch.device('cuda' if torch.cuda.is_available() else 'cpu')\n",
    "train_loader, labeled_subset, _ = ut.get_mnist_data(device, use_test_subset=True)\n",
    "vae = VAE(z_dim=z, name=model_name).to(device)\n"
   ]
  },
  {
   "cell_type": "code",
   "execution_count": 13,
   "metadata": {},
   "outputs": [
    {
     "name": "stdout",
     "output_type": "stream",
     "text": [
      "Loaded from checkpoints/model=vae_z=10_run=0000/model-20000.pt\n"
     ]
    }
   ],
   "source": [
    "ut.load_model_by_name(vae, global_step=iter_max)"
   ]
  },
  {
   "cell_type": "code",
   "execution_count": 15,
   "metadata": {},
   "outputs": [
    {
     "name": "stdout",
     "output_type": "stream",
     "text": [
      "********************************************************************************\n",
      "LOG-LIKELIHOOD LOWER BOUNDS ON TEST SUBSET\n",
      "********************************************************************************\n",
      "NELBO: 99.67083740234375. KL: 19.257720947265625. Rec: 80.41310119628906\n"
     ]
    }
   ],
   "source": [
    "\n",
    "ut.evaluate_lower_bound(vae, labeled_subset, run_iwae=False)"
   ]
  },
  {
   "cell_type": "code",
   "execution_count": 66,
   "metadata": {},
   "outputs": [
    {
     "data": {
      "text/plain": [
       "<matplotlib.image.AxesImage at 0x12d043320>"
      ]
     },
     "execution_count": 66,
     "metadata": {},
     "output_type": "execute_result"
    },
    {
     "data": {
      "image/png": "[encoded data removed]",
      "text/plain": [
       "<Figure size 432x288 with 1 Axes>"
      ]
     },
     "metadata": {
      "needs_background": "light"
     },
     "output_type": "display_data"
    }
   ],
   "source": [
    "samples = vae.sample_x(200).reshape(200,1,28,28)\n",
    "grid = make_grid(samples, nrow=20)\n",
    "#imshow(torch.mean(grid,0))\n",
    "imshow(grid.permute(1,2,0))\n",
    "\n",
    "\n",
    "#samples.shape\n",
    "#imshow(samples.reshape(280,560, order='F'))"
   ]
  },
  {
   "cell_type": "code",
   "execution_count": 72,
   "metadata": {},
   "outputs": [
    {
     "data": {
      "text/plain": [
       "tensor([[ 1.5743,  0.0233,  2.2096],\n",
       "        [-1.4160,  0.4882, -2.3930],\n",
       "        [ 0.2173,  1.1893, -2.2759]])"
      ]
     },
     "execution_count": 72,
     "metadata": {},
     "output_type": "execute_result"
    }
   ],
   "source": [
    "x = torch.randn(3,3)\n",
    "x"
   ]
  },
  {
   "cell_type": "code",
   "execution_count": 79,
   "metadata": {},
   "outputs": [
    {
     "data": {
      "text/plain": [
       "tensor([[[ 1.5743,  0.0233,  2.2096],\n",
       "         [ 1.5743,  0.0233,  2.2096],\n",
       "         [ 1.5743,  0.0233,  2.2096],\n",
       "         [ 1.5743,  0.0233,  2.2096],\n",
       "         [ 1.5743,  0.0233,  2.2096],\n",
       "         [ 1.5743,  0.0233,  2.2096],\n",
       "         [ 1.5743,  0.0233,  2.2096]],\n",
       "\n",
       "        [[-1.4160,  0.4882, -2.3930],\n",
       "         [-1.4160,  0.4882, -2.3930],\n",
       "         [-1.4160,  0.4882, -2.3930],\n",
       "         [-1.4160,  0.4882, -2.3930],\n",
       "         [-1.4160,  0.4882, -2.3930],\n",
       "         [-1.4160,  0.4882, -2.3930],\n",
       "         [-1.4160,  0.4882, -2.3930]],\n",
       "\n",
       "        [[ 0.2173,  1.1893, -2.2759],\n",
       "         [ 0.2173,  1.1893, -2.2759],\n",
       "         [ 0.2173,  1.1893, -2.2759],\n",
       "         [ 0.2173,  1.1893, -2.2759],\n",
       "         [ 0.2173,  1.1893, -2.2759],\n",
       "         [ 0.2173,  1.1893, -2.2759],\n",
       "         [ 0.2173,  1.1893, -2.2759]]])"
      ]
     },
     "execution_count": 79,
     "metadata": {},
     "output_type": "execute_result"
    }
   ],
   "source": [
    "x.unsqueeze(1).expand_as(torch.zeros(3,7,3))"
   ]
  },
  {
   "cell_type": "code",
   "execution_count": null,
   "metadata": {},
   "outputs": [],
   "source": []
  }
 ],
 "metadata": {
  "kernelspec": {
   "display_name": "Python 3",
   "language": "python",
   "name": "python3"
  },
  "language_info": {
   "codemirror_mode": {
    "name": "ipython",
    "version": 3
   },
   "file_extension": ".py",
   "mimetype": "text/x-python",
   "name": "python",
   "nbconvert_exporter": "python",
   "pygments_lexer": "ipython3",
   "version": "3.6.6"
  }
 },
 "nbformat": 4,
 "nbformat_minor": 1
}
